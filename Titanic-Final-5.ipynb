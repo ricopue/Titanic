{
 "cells": [
  {
   "cell_type": "code",
   "execution_count": 1,
   "metadata": {},
   "outputs": [],
   "source": [
    "import pandas as pd\n",
    "import numpy as np\n"
   ]
  },
  {
   "cell_type": "code",
   "execution_count": 2,
   "metadata": {},
   "outputs": [],
   "source": [
    "##train = pd.read_csv('../input/train.csv')\n",
    "##test = pd.read_csv('../input/test.csv')\n",
    "train = pd.read_csv('train.csv')\n",
    "test = pd.read_csv('test.csv')\n",
    "test['Survived'] = np.nan"
   ]
  },
  {
   "cell_type": "code",
   "execution_count": 3,
   "metadata": {},
   "outputs": [],
   "source": [
    "data=train.append(test,ignore_index=True,sort=False)"
   ]
  },
  {
   "cell_type": "code",
   "execution_count": 4,
   "metadata": {},
   "outputs": [],
   "source": [
    "##Add missing fare to passangerID 1044 and create new Fare_bin feature\n",
    "data['Fare'].fillna(8, inplace = True) "
   ]
  },
  {
   "cell_type": "code",
   "execution_count": 5,
   "metadata": {},
   "outputs": [],
   "source": [
    "data['Ticket_count'] = data.Ticket.apply(lambda x: data[data['Ticket']==x].shape[0] )\n",
    "data['Fare_tickect']= data.apply(lambda x: x.Fare/x.Ticket_count,axis=1 )\n",
    "data['Fare_bin'] = pd.qcut(data['Fare_tickect'], 4,labels=('Fare_bin1','Fare_bin2','Fare_bin3','Fare_bin4'))"
   ]
  },
  {
   "cell_type": "code",
   "execution_count": 6,
   "metadata": {},
   "outputs": [],
   "source": [
    "## New Title feature created \n",
    "data['Title']=data['Name'].str.split(', ').str[1].str.split('.').str[0]\n",
    "data['Title'] = data['Title'].replace(['Ms','Mlle'], 'Miss')\n",
    "data['Title'] = data['Title'].replace(['Mme'], 'Mrs')\n",
    "data['Title'] = data['Title'].replace(['Dona','Dr','Rev','the Countess','Capt','Lady','Sir','Jonkheer','Don','Major','Col'], 'Rare')"
   ]
  },
  {
   "cell_type": "code",
   "execution_count": 7,
   "metadata": {},
   "outputs": [],
   "source": [
    "##Add missing Age bases on Pclass and create new Age_bin feature\n",
    "def Cal_age(cols):\n",
    "    Age = cols[0]\n",
    "    Pclass = cols[1]\n",
    "    \n",
    "    if pd.isnull(Age):\n",
    "\n",
    "        if Pclass == 1:\n",
    "            return 37\n",
    "\n",
    "        elif Pclass == 2:\n",
    "            return 29\n",
    "\n",
    "        else:\n",
    "            return 24\n",
    "\n",
    "    else:\n",
    "        return Age\n",
    "\n",
    "data['Age'] = data[['Age','Title']].apply(Cal_age,axis=1)\n",
    "data['Age_bin'] = pd.cut(data['Age'].astype(int), 5, labels=('Age_bin1','Age_bin2','Age_bin3','Age_bin4','Age_bin5'))"
   ]
  },
  {
   "cell_type": "code",
   "execution_count": 8,
   "metadata": {},
   "outputs": [],
   "source": [
    "## New Family size feature\n",
    "def Cal_Family_bin(cols):\n",
    "    FamilyZize = cols[0] +cols[1]\n",
    "    if FamilyZize == 0:\n",
    "        return 'Alone'\n",
    "    elif 1 <= FamilyZize <= 3:\n",
    "        return 'Family'\n",
    "    elif FamilyZize >= 4:\n",
    "        return 'Big_family'\n",
    "    \n",
    "data['Family_type'] = data[['SibSp','Parch']].apply(Cal_Family_bin,axis=1)"
   ]
  },
  {
   "cell_type": "code",
   "execution_count": 9,
   "metadata": {},
   "outputs": [],
   "source": [
    "# Missing Embarked info.\n",
    "data.loc[data['Embarked'].isnull(), 'Embarked'] = 'S'"
   ]
  },
  {
   "cell_type": "code",
   "execution_count": 10,
   "metadata": {},
   "outputs": [],
   "source": [
    "## Two New Feature creates.\n",
    "##Family_wit_FC_dead = Passanger with a dead female/child in the family.\n",
    "##Family_wit_M_alive = Passanger with at least one male/no_child survided in the family.\n",
    "\n",
    "\n",
    "#Familyname feature created from Name and Fare\n",
    "data['Family_name']=data['Name'].str.split(', ').str[0] + '-' + data['Fare'].astype(str)\n",
    "\n",
    "# Families with a female or child no survive.\n",
    "list1=data[((data['Sex']=='female') | (data['Age']<14)) & (data['Survived']==0) ]['Family_name'].tolist()\n",
    "\n",
    "# Families with male no child survive.\n",
    "list2=data[(data['Sex']=='male') & (data['Age']>18) & (data['Survived']==1)]['Family_name'].tolist()"
   ]
  },
  {
   "cell_type": "code",
   "execution_count": 11,
   "metadata": {},
   "outputs": [],
   "source": [
    "def FC_dead(row):\n",
    "    if row['Family_name'] in list1:\n",
    "        return 1\n",
    "    else:\n",
    "        return 0"
   ]
  },
  {
   "cell_type": "code",
   "execution_count": 12,
   "metadata": {},
   "outputs": [],
   "source": [
    "def M_Alive(row):\n",
    "    if row['Family_name'] in list2:\n",
    "        return 1\n",
    "    else:\n",
    "        return 0"
   ]
  },
  {
   "cell_type": "code",
   "execution_count": 13,
   "metadata": {},
   "outputs": [],
   "source": [
    "data['Family_wit_FC_dead']=data.apply(FC_dead, axis=1)\n",
    "data['Family_wit_M_alive']=data.apply(M_Alive, axis=1)"
   ]
  },
  {
   "cell_type": "code",
   "execution_count": 14,
   "metadata": {},
   "outputs": [],
   "source": [
    "data['Family_Name_size'] = data.Family_name.apply(lambda x: data[data['Family_name']==x].shape[0] )"
   ]
  },
  {
   "cell_type": "code",
   "execution_count": 15,
   "metadata": {},
   "outputs": [],
   "source": [
    "Fare_bin = pd.get_dummies(data['Fare_bin'])\n",
    "Pclass_bin = pd.get_dummies(data['Pclass'],prefix ='Class')\n",
    "Title_bin = pd.get_dummies(data['Title'])\n",
    "Sex_bin = pd.get_dummies(data['Sex'],drop_first=True,prefix ='Sex')\n",
    "Age_bin = pd.get_dummies(data['Age_bin'])\n",
    "Family_type = pd.get_dummies(data['Family_type'])\n",
    "Embarked_bin = pd.get_dummies(data['Embarked'],prefix ='Embarked')\n",
    "Family_wit_FC_dead=data['Family_wit_FC_dead'].astype(np.uint8)\n",
    "Family_wit_M_alive=data['Family_wit_M_alive'].astype(np.uint8)"
   ]
  },
  {
   "cell_type": "code",
   "execution_count": 16,
   "metadata": {},
   "outputs": [],
   "source": [
    "data_cleaned = pd.concat([data['Survived'],Fare_bin,Pclass_bin,Title_bin,Sex_bin,Age_bin,Family_type,Embarked_bin,Family_wit_FC_dead,Family_wit_M_alive],axis=1)"
   ]
  },
  {
   "cell_type": "code",
   "execution_count": 17,
   "metadata": {},
   "outputs": [],
   "source": [
    "train_cleaned = data_cleaned[data['Survived'].notnull()]\n",
    "test_cleaned = data_cleaned[data['Survived'].isnull()]"
   ]
  },
  {
   "cell_type": "code",
   "execution_count": 18,
   "metadata": {},
   "outputs": [
    {
     "name": "stderr",
     "output_type": "stream",
     "text": [
      "/home/riki/anaconda3/envs/datascience/lib/python3.7/site-packages/pandas/core/frame.py:3940: SettingWithCopyWarning: \n",
      "A value is trying to be set on a copy of a slice from a DataFrame\n",
      "\n",
      "See the caveats in the documentation: http://pandas.pydata.org/pandas-docs/stable/indexing.html#indexing-view-versus-copy\n",
      "  errors=errors)\n"
     ]
    }
   ],
   "source": [
    "test_cleaned.drop('Survived',axis=1,inplace=True)\n",
    "PassId =test['PassengerId']"
   ]
  },
  {
   "cell_type": "markdown",
   "metadata": {},
   "source": [
    "### 4. Building the model"
   ]
  },
  {
   "cell_type": "code",
   "execution_count": 19,
   "metadata": {},
   "outputs": [],
   "source": [
    "from sklearn.model_selection import train_test_split\n",
    "from sklearn.ensemble import RandomForestClassifier\n",
    "from sklearn.metrics import classification_report, accuracy_score,confusion_matrix,mean_absolute_error"
   ]
  },
  {
   "cell_type": "code",
   "execution_count": 28,
   "metadata": {},
   "outputs": [],
   "source": [
    "X = train_cleaned.drop('Survived',axis=1)\n",
    "y = train_cleaned['Survived']"
   ]
  },
  {
   "cell_type": "code",
   "execution_count": 29,
   "metadata": {},
   "outputs": [],
   "source": [
    "X_train, X_test, y_train, y_test = train_test_split(X, y, test_size=0.3)"
   ]
  },
  {
   "cell_type": "markdown",
   "metadata": {},
   "source": [
    "## Random Forests"
   ]
  },
  {
   "cell_type": "code",
   "execution_count": 30,
   "metadata": {},
   "outputs": [
    {
     "data": {
      "text/plain": [
       "RandomForestClassifier(bootstrap=True, class_weight=None, criterion='gini',\n",
       "            max_depth=None, max_features='auto', max_leaf_nodes=None,\n",
       "            min_impurity_decrease=0.0, min_impurity_split=None,\n",
       "            min_samples_leaf=1, min_samples_split=2,\n",
       "            min_weight_fraction_leaf=0.0, n_estimators=100, n_jobs=None,\n",
       "            oob_score=False, random_state=None, verbose=0,\n",
       "            warm_start=False)"
      ]
     },
     "execution_count": 30,
     "metadata": {},
     "output_type": "execute_result"
    }
   ],
   "source": [
    "rfc = RandomForestClassifier(n_estimators=100)\n",
    "rfc.fit(X_train, y_train)"
   ]
  },
  {
   "cell_type": "code",
   "execution_count": 31,
   "metadata": {},
   "outputs": [],
   "source": [
    "rfc_predictions = rfc.predict(X_test)"
   ]
  },
  {
   "cell_type": "code",
   "execution_count": 32,
   "metadata": {},
   "outputs": [
    {
     "name": "stdout",
     "output_type": "stream",
     "text": [
      "[[171   2]\n",
      " [  2  93]]\n"
     ]
    }
   ],
   "source": [
    "print(confusion_matrix(y_test,rfc_predictions))"
   ]
  },
  {
   "cell_type": "code",
   "execution_count": 33,
   "metadata": {},
   "outputs": [
    {
     "name": "stdout",
     "output_type": "stream",
     "text": [
      "              precision    recall  f1-score   support\n",
      "\n",
      "         0.0       0.99      0.99      0.99       173\n",
      "         1.0       0.98      0.98      0.98        95\n",
      "\n",
      "   micro avg       0.99      0.99      0.99       268\n",
      "   macro avg       0.98      0.98      0.98       268\n",
      "weighted avg       0.99      0.99      0.99       268\n",
      "\n"
     ]
    }
   ],
   "source": [
    "print(classification_report(y_test,rfc_predictions))"
   ]
  },
  {
   "cell_type": "code",
   "execution_count": 34,
   "metadata": {},
   "outputs": [
    {
     "name": "stdout",
     "output_type": "stream",
     "text": [
      "Mean Absolute Error : 0.014925373134328358\n",
      "accuracy_score : 98.51\n"
     ]
    }
   ],
   "source": [
    "acc_rfc = str(round(accuracy_score(rfc_predictions, y_test) * 100, 2))\n",
    "MAE_rfc=str(mean_absolute_error(rfc_predictions, y_test))\n",
    "\n",
    "print(\"Mean Absolute Error : \" + MAE_rfc)\n",
    "print(\"accuracy_score : \" + acc_rfc)"
   ]
  },
  {
   "cell_type": "code",
   "execution_count": 37,
   "metadata": {},
   "outputs": [],
   "source": [
    "rfc.fit(X, y)\n",
    "rfc_predictions_test = rfc.predict(test_cleaned).astype(np.uint8)"
   ]
  },
  {
   "cell_type": "code",
   "execution_count": 38,
   "metadata": {},
   "outputs": [],
   "source": [
    "output_rfc = pd.DataFrame({ 'PassengerId' : PassId, 'Survived': rfc_predictions_test })\n",
    "output_rfc.to_csv('submission-rfc.csv', index=False)"
   ]
  }
 ],
 "metadata": {
  "kernelspec": {
   "display_name": "Python 3",
   "language": "python",
   "name": "python3"
  },
  "language_info": {
   "codemirror_mode": {
    "name": "ipython",
    "version": 3
   },
   "file_extension": ".py",
   "mimetype": "text/x-python",
   "name": "python",
   "nbconvert_exporter": "python",
   "pygments_lexer": "ipython3",
   "version": "3.7.2"
  }
 },
 "nbformat": 4,
 "nbformat_minor": 2
}
